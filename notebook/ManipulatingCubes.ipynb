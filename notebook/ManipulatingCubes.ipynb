{
 "cells": [
  {
   "cell_type": "markdown",
   "id": "07b81851-f539-4eb2-b367-e48980b0240f",
   "metadata": {},
   "source": [
    "## More details - manipulating a Data Cube"
   ]
  },
  {
   "cell_type": "markdown",
   "id": "61c18937-f285-495d-845b-b42925c323bd",
   "metadata": {},
   "source": [
    "Lets first import JDAViz open a cube - In this case a MIRI cube of _Cen A_"
   ]
  },
  {
   "cell_type": "code",
   "execution_count": null,
   "id": "193584af-85fe-49b7-94cb-ced84c63b337",
   "metadata": {},
   "outputs": [],
   "source": [
    "%reload_ext autoreload \n",
    "%autoreload 2\n",
    "# load important packages\n",
    "import jdaviz \n",
    "from jdaviz import Cubeviz\n",
    "\n",
    "tag = \"jw01269-c1000_t001_miri_ch2-shortmediumlong\" # Centaurus A\n",
    "cenA = f'mast:JWST/product/{tag}_s3d.fits'\n",
    "\n",
    "cubeviz = Cubeviz()\n",
    "cubeviz.load_data(cenA, override_cube_limit=True)\n",
    "cubeviz.show()"
   ]
  },
  {
   "cell_type": "markdown",
   "id": "12b512ab-b6b3-4bc9-bc68-08bae3d95cd0",
   "metadata": {},
   "source": [
    "Subtracting one from the other, we can then manipulate the cube data outside of JDAViz to get the continuum subtracted cube"
   ]
  },
  {
   "cell_type": "code",
   "execution_count": null,
   "id": "8a1ce93e-cd21-4ee9-8ef7-e418fb1b2fc6",
   "metadata": {},
   "outputs": [],
   "source": [
    "cubemodel = cubeviz.get_data('model')\n",
    "cubeoriginal = cubeviz.get_data(f'{tag}_s3d[SCI]')\n",
    "# cubemodel = cubeviz.get_data('model residuals')\n",
    "cubesub = cubeoriginal - cubemodel\n",
    "cubesub"
   ]
  },
  {
   "cell_type": "markdown",
   "id": "00bb86d9-4b8e-4971-abec-869da0718a58",
   "metadata": {},
   "source": [
    "We can load this cube in and explore the continuum subtracted region..."
   ]
  },
  {
   "cell_type": "code",
   "execution_count": null,
   "id": "0286884c-f29d-4172-825c-4ce4100792ad",
   "metadata": {},
   "outputs": [],
   "source": [
    "cubeviz2 = Cubeviz()\n",
    "cubeviz2.load_data(cubesub)\n",
    "cubeviz2.show()"
   ]
  }
 ],
 "metadata": {
  "kernelspec": {
   "display_name": "Python 3 (ipykernel)",
   "language": "python",
   "name": "python3"
  },
  "language_info": {
   "codemirror_mode": {
    "name": "ipython",
    "version": 3
   },
   "file_extension": ".py",
   "mimetype": "text/x-python",
   "name": "python",
   "nbconvert_exporter": "python",
   "pygments_lexer": "ipython3",
   "version": "3.11.9"
  }
 },
 "nbformat": 4,
 "nbformat_minor": 5
}
