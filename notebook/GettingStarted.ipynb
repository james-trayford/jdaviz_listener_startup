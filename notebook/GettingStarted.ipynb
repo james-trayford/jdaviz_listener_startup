{
 "cells": [
  {
   "cell_type": "markdown",
   "id": "07b81851-f539-4eb2-b367-e48980b0240f",
   "metadata": {},
   "source": [
    "## Startup Notebook"
   ]
  },
  {
   "cell_type": "markdown",
   "id": "61c18937-f285-495d-845b-b42925c323bd",
   "metadata": {},
   "source": [
    "Lets first import JDAViz and define a load of cubest to try..."
   ]
  },
  {
   "cell_type": "code",
   "execution_count": 4,
   "id": "48c0df31-c7ed-4d01-a76d-cbd5e1583544",
   "metadata": {},
   "outputs": [],
   "source": [
    "%reload_ext autoreload \n",
    "%autoreload 2\n",
    "# load important packages\n",
    "import jdaviz \n",
    "from jdaviz import Cubeviz\n",
    "\n",
    "jwst = 'mast:JWST/product/'\n",
    "manga = \"https://data.sdss.org/sas/dr17/manga/spectro/redux/v3_1_1/\"\n",
    "\n",
    "uris = [f\"{jwst}jw02016-c1009_t011_miri_ch1-shortmediumlong_s3d.fits\", # NGC1052 - edge-on galaxy\n",
    "       f\"{jwst}jw02016-c1012_t023_miri_ch1-shortmediumlong_s3d.fits\", # Sombrero Galaxy - edge-on galaxy\n",
    "       f\"{jwst}jw02732-o004_t004_miri_ch1-shortmediumlong_s3d.fits\", # NGC7319 - AGN\n",
    "       f\"{jwst}jw01267-c1000_t002_miri_ch1-shortmediumlong_s3d.fits\", # ARP220 Ultra Luminous InfraRed galaxy (ULIRG)\n",
    "       f\"{jwst}jw01335-o004_t004_nirspec_g140h-f100lp_s3d.fits\", # XID / XMMC 2028 (AGN, Cresci)\n",
    "       f\"{jwst}jw01282-o026_t029_miri_ch1-shortmediumlong_s3d.fits\", # HL Tau protoplanetary disc\n",
    "       f\"{jwst}jw01742-c1001_t003_miri_ch1-shortmediumlong_s3d.fits\", # Butterfly nebula\n",
    "        f\"{manga}7443/stack/manga-7443-12703-LOGCUBE.fits.gz\", # Merger\n",
    "        f\"{manga}9862/stack/manga-9862-12703-LOGCUBE.fits.gz\", # EELR Galaxy\n",
    "        f\"{manga}8938/stack/manga-8938-6102-LOGCUBE.fits.gz\",# another EELR Galaxy,\n",
    "        f\"{manga}11965/stack/manga-11965-3703-LOGCUBE.fits.gz\",# yet another EELR Galaxy,\n",
    "        f\"{manga}8626/stack/manga-8626-12704-LOGCUBE.fits.gz\", # Blueberry\n",
    "       f\"{jwst}jw01492-o009_t001_nirspec_g235m-f170lp_s3d.fits\",\n",
    "       f\"{jwst}jw01492-o009_t001_nirspec_g140m-f100lp_s3d.fits\",\n",
    "       f\"{jwst}jw01492-o009_t001_nirspec_g395m-f290lp_s3d.fits\",\n",
    "       f\"{jwst}jw01492-o009_t001_nirspec_prism-clear_s3d.fits\",\n",
    "       f\"{jwst}jw01492-o008_t001_nirspec_g235m-f170lp_s3d.fits\"]\n"
   ]
  },
  {
   "cell_type": "markdown",
   "id": "12b512ab-b6b3-4bc9-bc68-08bae3d95cd0",
   "metadata": {},
   "source": [
    "We can then start the JDAViz viewer:"
   ]
  },
  {
   "cell_type": "code",
   "execution_count": 5,
   "id": "4b6994f1-ba9f-4b10-b16a-596a78e5d968",
   "metadata": {},
   "outputs": [
    {
     "data": {
      "application/javascript": [
       "\n",
       "                    window.jupyter_python_executable = '/opt/homebrew/Cellar/python@3.11/3.11.9/Frameworks/Python.framework/Versions/3.11/Resources/Python.app/Contents/MacOS/Python';\n",
       "                    window.jupyter_widget_checks_silent = true;\n",
       "                    window.jupyter_widget_checks_libraries = [{\"python\": \"ipyvuetify\", \"classic\": \"jupyter-vuetify/extension\", \"lab\": \"jupyter-vuetify\"}, {\"python\": \"ipyvue\", \"classic\": \"jupyter-vue/extension\", \"lab\": \"jupyter-vue\"}];\n",
       "                    "
      ],
      "text/plain": [
       "<IPython.core.display.Javascript object>"
      ]
     },
     "metadata": {},
     "output_type": "display_data"
    },
    {
     "data": {
      "text/html": [
       "<div class=\"jupyter-widget-checks-container\">\n",
       "    <script>\n",
       "        (function () {\n",
       "            console.log(\"Checking for jupyter-widgets extensions\")\n",
       "            const inLab = window._JUPYTERLAB !== undefined;\n",
       "            const silent = jupyter_widget_checks_silent;\n",
       "            const containers = document.getElementsByClassName('jupyter-widget-checks-container');\n",
       "            const rootEl = containers[containers.length - 1];\n",
       "            const libraries = window.jupyter_widget_checks_libraries;\n",
       "\n",
       "            function getBaseUrl() {\n",
       "                const labConfigData = document.getElementById(\"jupyter-config-data\");\n",
       "                if (labConfigData) {\n",
       "                    /* lab and Voila */\n",
       "                    return JSON.parse(labConfigData.textContent).baseUrl;\n",
       "                }\n",
       "                let base = document.body.dataset.baseUrl || document.baseURI;\n",
       "                return base;\n",
       "            }\n",
       "\n",
       "            function checkLibrary(extensions, library) {\n",
       "                let installed = false;\n",
       "                let ok = true;\n",
       "                if (inLab) {\n",
       "                    installed = _JUPYTERLAB[library.lab] !== undefined\n",
       "                } else {\n",
       "                    installed = extensions[library.classic] !== undefined;\n",
       "                    let enabled = extensions[library.classic] === true;\n",
       "                }\n",
       "                const div = document.createElement(\"div\")\n",
       "                if (installed) {\n",
       "                    if (!silent) {\n",
       "                        div.innerHTML = `Extension ${library.python} is installed at the server ✅`\n",
       "                        rootEl.appendChild(div)\n",
       "                    }\n",
       "                } else {\n",
       "                    div.innerHTML = `Extension ${library.python} is <b>NOT</b> installed at the server ❌.`\n",
       "                    rootEl.appendChild(div)\n",
       "                    ok = false;\n",
       "                }\n",
       "                return ok;\n",
       "            }\n",
       "\n",
       "            async function check() {\n",
       "                const url = `${getBaseUrl()}api/config/notebook`\n",
       "                const response = (await fetch(url));\n",
       "                const data = await response.json()\n",
       "                const extensions = data[\"load_extensions\"];\n",
       "                var ok = true;\n",
       "                let needsInstall = [];\n",
       "                libraries.forEach((library) => {\n",
       "                    if (!checkLibrary(extensions, library)) {\n",
       "                        ok = false;\n",
       "                        needsInstall.push(library.python)\n",
       "                        console.log(\"Needs install\", library.python)\n",
       "                    }\n",
       "                })\n",
       "                console.log(ok, needsInstall)\n",
       "                if (!ok) {\n",
       "                    const div = document.createElement(\"div\")\n",
       "                    const div2 = document.createElement(\"div\")\n",
       "                    div.innerHTML = `Run <code>${jupyter_python_executable} -m pip install ${needsInstall.join(\" \")}</code>. Refresh the page after installation.`\n",
       "                    div2.innerHTML = `Visit <a href=\"https://solara.dev/documentation/getting_started/troubleshoot\" target=\"_blank\">https://solara/dev/documentation/getting_started/troubleshoot</a> for more information.`\n",
       "                    rootEl.appendChild(div)\n",
       "                    rootEl.appendChild(div2)\n",
       "                }\n",
       "            }\n",
       "            check()\n",
       "        })();\n",
       "    </script>\n",
       "</div>\n"
      ],
      "text/plain": [
       "<IPython.core.display.HTML object>"
      ]
     },
     "metadata": {},
     "output_type": "display_data"
    },
    {
     "name": "stderr",
     "output_type": "stream",
     "text": [
      "/Users/james/Documents/Code/jdaviz/jdaviz/utils.py:824: UserWarning: You may be querying for a remote file at 'mast:JWST/product/jw02016-c1009_t011_miri_ch1-shortmediumlong_s3d.fits', but the `cache` argument was not in the call to `load_data`. Unless you set `cache` explicitly, remote files will be cached locally and this warning will be raised.\n",
      "  warnings.warn(cache_none_msg, UserWarning)\n",
      "INFO:astroquery:Found cached file /Users/james/Documents/Code/strauss_jdat/notebook/jw02016-c1009_t011_miri_ch1-shortmediumlong_s3d.fits with expected size 83004480.\n"
     ]
    },
    {
     "name": "stdout",
     "output_type": "stream",
     "text": [
      "INFO: Found cached file /Users/james/Documents/Code/strauss_jdat/notebook/jw02016-c1009_t011_miri_ch1-shortmediumlong_s3d.fits with expected size 83004480. [astroquery.query]\n"
     ]
    },
    {
     "data": {
      "application/vnd.jupyter.widget-view+json": {
       "model_id": "65b63aac6ad84662b687281f6adad0ab",
       "version_major": 2,
       "version_minor": 0
      },
      "text/plain": [
       "Application(config='cubeviz', docs_link='https://jdaviz.readthedocs.io/en/latest/cubeviz/index.html', events=[…"
      ]
     },
     "metadata": {},
     "output_type": "display_data"
    }
   ],
   "source": [
    "# First we load NGC1052 by default\n",
    "cubeviz = Cubeviz()\n",
    "cubeviz.load_data(f\"{uris[0]}\", override_cube_limit=True)\n",
    "cubeviz.show()"
   ]
  },
  {
   "cell_type": "code",
   "execution_count": null,
   "id": "88f3898d-1990-45dc-bfeb-794e8c692646",
   "metadata": {},
   "outputs": [],
   "source": []
  }
 ],
 "metadata": {
  "kernelspec": {
   "display_name": "Python 3 (ipykernel)",
   "language": "python",
   "name": "python3"
  },
  "language_info": {
   "codemirror_mode": {
    "name": "ipython",
    "version": 3
   },
   "file_extension": ".py",
   "mimetype": "text/x-python",
   "name": "python",
   "nbconvert_exporter": "python",
   "pygments_lexer": "ipython3",
   "version": "3.11.9"
  }
 },
 "nbformat": 4,
 "nbformat_minor": 5
}
